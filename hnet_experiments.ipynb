{
 "cells": [
  {
   "cell_type": "code",
   "execution_count": 1,
   "metadata": {},
   "outputs": [],
   "source": [
    "import numpy as np\n",
    "import torch\n",
    "from networks.hyper import HyperDip\n",
    "from hypnettorch.hnets import StructuredHMLP\n",
    "from hypnettorch.hnets.structured_hmlp_examples import resnet_chunking\n",
    "from hypnettorch.hnets.chunked_mlp_hnet import ChunkedHMLP"
   ]
  },
  {
   "cell_type": "code",
   "execution_count": 2,
   "metadata": {},
   "outputs": [],
   "source": [
    "net = HyperDip(3, 1,\n",
    "                num_channels_down = [128, 128, 128, 128, 128],\n",
    "                num_channels_up   = [128, 128, 128, 128, 128],\n",
    "                num_channels_skip = [16, 16, 16, 16, 16],\n",
    "                upsample_mode='bilinear',\n",
    "                need_sigmoid=True, need_bias=True, pad='reflection', act_fun='LeakyReLU').cuda()"
   ]
  },
  {
   "cell_type": "code",
   "execution_count": 3,
   "metadata": {},
   "outputs": [],
   "source": [
    "net._is_properly_setup()"
   ]
  },
  {
   "cell_type": "code",
   "execution_count": 4,
   "metadata": {},
   "outputs": [
    {
     "name": "stdout",
     "output_type": "stream",
     "text": [
      "Created Chunked MLP Hypernet with 144 chunk(s) of size 16384.\n",
      "Hypernetwork with 2150664 weights and 2352193 outputs (compression ratio: 0.91).\n",
      "The network consists of 2150656 unconditional weights (2150656 internally maintained) and 8 conditional weights (8 internally maintained).\n"
     ]
    }
   ],
   "source": [
    "hnet = ChunkedHMLP(net.hyper_shapes_learned, 16384, layers=(128,128,128), use_batch_norm=True).cuda()\n",
    "# hnet.apply_chunked_hyperfan_init()"
   ]
  },
  {
   "cell_type": "code",
   "execution_count": 5,
   "metadata": {},
   "outputs": [
    {
     "name": "stdout",
     "output_type": "stream",
     "text": [
      "WEIGHT GENERATION:  0.43922084599762456\n",
      "76 38 38\n",
      "NET FORWARD:  0.15073687700351002\n"
     ]
    },
    {
     "name": "stderr",
     "output_type": "stream",
     "text": [
      "/home/doseok/miniconda3/envs/225BProject/lib/python3.7/site-packages/torch/nn/functional.py:3635: UserWarning: Default upsampling behavior when mode=bilinear is changed to align_corners=False since 0.4.0. Please specify align_corners=True if the old behavior is desired. See the documentation of nn.Upsample for details.\n",
      "  \"See the documentation of nn.Upsample for details.\".format(mode)\n"
     ]
    }
   ],
   "source": [
    "import time\n",
    "x_ = torch.rand(9, 8).cuda()\n",
    "start = time.perf_counter()\n",
    "weights = hnet.forward(cond_input=x_)\n",
    "weight_gen =  time.perf_counter()\n",
    "print(\"WEIGHT GENERATION: \", weight_gen - start)\n",
    "x = torch.rand(9, 3, 300, 300).cuda()\n",
    "with torch.no_grad():\n",
    "    y1 = net.forward(x, weights=weights[0])\n",
    "end = time.perf_counter()\n",
    "print(\"NET FORWARD: \", end - weight_gen)\n",
    "\n"
   ]
  },
  {
   "cell_type": "code",
   "execution_count": null,
   "metadata": {},
   "outputs": [],
   "source": []
  }
 ],
 "metadata": {
  "kernelspec": {
   "display_name": "Python 3.7.15 ('225BProject')",
   "language": "python",
   "name": "python3"
  },
  "language_info": {
   "codemirror_mode": {
    "name": "ipython",
    "version": 3
   },
   "file_extension": ".py",
   "mimetype": "text/x-python",
   "name": "python",
   "nbconvert_exporter": "python",
   "pygments_lexer": "ipython3",
   "version": "3.7.15"
  },
  "orig_nbformat": 4,
  "vscode": {
   "interpreter": {
    "hash": "c822b28e18ab3d0f88472253e9918e7302335263077b599f4a45a31299edd4ce"
   }
  }
 },
 "nbformat": 4,
 "nbformat_minor": 2
}
